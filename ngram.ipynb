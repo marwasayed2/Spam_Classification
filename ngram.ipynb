{
 "cells": [
  {
   "cell_type": "markdown",
   "id": "feb1c453",
   "metadata": {},
   "source": [
    "# SPAM CLASSIFICATION MODEL (n_ngram Vecorization)"
   ]
  },
  {
   "cell_type": "code",
   "execution_count": 1,
   "id": "b63cfc1f",
   "metadata": {},
   "outputs": [
    {
     "name": "stderr",
     "output_type": "stream",
     "text": [
      "[nltk_data] Downloading package punkt to\n",
      "[nltk_data]     C:\\Users\\dell\\AppData\\Roaming\\nltk_data...\n",
      "[nltk_data]   Package punkt is already up-to-date!\n"
     ]
    }
   ],
   "source": [
    "import pandas as pd\n",
    "import numpy as np\n",
    "import re\n",
    "import nltk\n",
    "nltk.download('punkt')\n",
    "from sklearn.model_selection import train_test_split\n",
    "from sklearn.feature_extraction.text import TfidfVectorizer\n",
    "from sklearn.feature_extraction.text import CountVectorizer\n",
    "from sklearn.ensemble import RandomForestClassifier\n",
    "from sklearn.metrics import accuracy_score\n",
    "from nltk.corpus import stopwords\n",
    "from nltk.stem import PorterStemmer\n",
    "from nltk.tokenize import word_tokenize\n",
    "import joblib\n",
    "import matplotlib.pyplot as plt"
   ]
  },
  {
   "cell_type": "markdown",
   "id": "1a6ca475",
   "metadata": {},
   "source": [
    "# Reading Data"
   ]
  },
  {
   "cell_type": "code",
   "execution_count": 2,
   "id": "40432170",
   "metadata": {},
   "outputs": [],
   "source": [
    "data=pd.read_csv(\"datasets\\spam_not_spam.csv\")\n"
   ]
  },
  {
   "cell_type": "code",
   "execution_count": 3,
   "id": "469f6f84",
   "metadata": {},
   "outputs": [
    {
     "data": {
      "text/html": [
       "<div>\n",
       "<style scoped>\n",
       "    .dataframe tbody tr th:only-of-type {\n",
       "        vertical-align: middle;\n",
       "    }\n",
       "\n",
       "    .dataframe tbody tr th {\n",
       "        vertical-align: top;\n",
       "    }\n",
       "\n",
       "    .dataframe thead th {\n",
       "        text-align: right;\n",
       "    }\n",
       "</style>\n",
       "<table border=\"1\" class=\"dataframe\">\n",
       "  <thead>\n",
       "    <tr style=\"text-align: right;\">\n",
       "      <th></th>\n",
       "      <th>text</th>\n",
       "      <th>label</th>\n",
       "    </tr>\n",
       "  </thead>\n",
       "  <tbody>\n",
       "    <tr>\n",
       "      <th>0</th>\n",
       "      <td>date wed NUMBER aug NUMBER NUMBER NUMBER NUMB...</td>\n",
       "      <td>0</td>\n",
       "    </tr>\n",
       "    <tr>\n",
       "      <th>1</th>\n",
       "      <td>martin a posted tassos papadopoulos the greek ...</td>\n",
       "      <td>0</td>\n",
       "    </tr>\n",
       "    <tr>\n",
       "      <th>2</th>\n",
       "      <td>man threatens explosion in moscow thursday aug...</td>\n",
       "      <td>0</td>\n",
       "    </tr>\n",
       "    <tr>\n",
       "      <th>3</th>\n",
       "      <td>klez the virus that won t die already the most...</td>\n",
       "      <td>0</td>\n",
       "    </tr>\n",
       "    <tr>\n",
       "      <th>4</th>\n",
       "      <td>in adding cream to spaghetti carbonara which ...</td>\n",
       "      <td>0</td>\n",
       "    </tr>\n",
       "    <tr>\n",
       "      <th>...</th>\n",
       "      <td>...</td>\n",
       "      <td>...</td>\n",
       "    </tr>\n",
       "    <tr>\n",
       "      <th>2995</th>\n",
       "      <td>abc s good morning america ranks it the NUMBE...</td>\n",
       "      <td>1</td>\n",
       "    </tr>\n",
       "    <tr>\n",
       "      <th>2996</th>\n",
       "      <td>hyperlink hyperlink hyperlink let mortgage le...</td>\n",
       "      <td>1</td>\n",
       "    </tr>\n",
       "    <tr>\n",
       "      <th>2997</th>\n",
       "      <td>thank you for shopping with us gifts for all ...</td>\n",
       "      <td>1</td>\n",
       "    </tr>\n",
       "    <tr>\n",
       "      <th>2998</th>\n",
       "      <td>the famous ebay marketing e course learn to s...</td>\n",
       "      <td>1</td>\n",
       "    </tr>\n",
       "    <tr>\n",
       "      <th>2999</th>\n",
       "      <td>hello this is chinese traditional 子 件 NUMBER世...</td>\n",
       "      <td>1</td>\n",
       "    </tr>\n",
       "  </tbody>\n",
       "</table>\n",
       "<p>3000 rows × 2 columns</p>\n",
       "</div>"
      ],
      "text/plain": [
       "                                                   text  label\n",
       "0      date wed NUMBER aug NUMBER NUMBER NUMBER NUMB...      0\n",
       "1     martin a posted tassos papadopoulos the greek ...      0\n",
       "2     man threatens explosion in moscow thursday aug...      0\n",
       "3     klez the virus that won t die already the most...      0\n",
       "4      in adding cream to spaghetti carbonara which ...      0\n",
       "...                                                 ...    ...\n",
       "2995   abc s good morning america ranks it the NUMBE...      1\n",
       "2996   hyperlink hyperlink hyperlink let mortgage le...      1\n",
       "2997   thank you for shopping with us gifts for all ...      1\n",
       "2998   the famous ebay marketing e course learn to s...      1\n",
       "2999   hello this is chinese traditional 子 件 NUMBER世...      1\n",
       "\n",
       "[3000 rows x 2 columns]"
      ]
     },
     "execution_count": 3,
     "metadata": {},
     "output_type": "execute_result"
    }
   ],
   "source": [
    "data.columns = [\"text\", \"label\"]\n",
    "data"
   ]
  },
  {
   "cell_type": "code",
   "execution_count": 4,
   "id": "9c8a5d01",
   "metadata": {},
   "outputs": [
    {
     "data": {
      "text/plain": [
       "(3000, 2)"
      ]
     },
     "execution_count": 4,
     "metadata": {},
     "output_type": "execute_result"
    }
   ],
   "source": [
    "data.shape"
   ]
  },
  {
   "cell_type": "markdown",
   "id": "0bcf8e6a",
   "metadata": {},
   "source": [
    "# Data Lenght"
   ]
  },
  {
   "cell_type": "code",
   "execution_count": 5,
   "id": "58d4c6b8",
   "metadata": {},
   "outputs": [
    {
     "data": {
      "text/plain": [
       "3000"
      ]
     },
     "execution_count": 5,
     "metadata": {},
     "output_type": "execute_result"
    }
   ],
   "source": [
    "len(data)"
   ]
  },
  {
   "cell_type": "code",
   "execution_count": 6,
   "id": "6e319012",
   "metadata": {},
   "outputs": [
    {
     "name": "stdout",
     "output_type": "stream",
     "text": [
      "<class 'pandas.core.frame.DataFrame'>\n",
      "RangeIndex: 3000 entries, 0 to 2999\n",
      "Data columns (total 2 columns):\n",
      " #   Column  Non-Null Count  Dtype \n",
      "---  ------  --------------  ----- \n",
      " 0   text    2999 non-null   object\n",
      " 1   label   3000 non-null   int64 \n",
      "dtypes: int64(1), object(1)\n",
      "memory usage: 47.0+ KB\n"
     ]
    }
   ],
   "source": [
    "data.info()"
   ]
  },
  {
   "cell_type": "code",
   "execution_count": 7,
   "id": "b8d9e883",
   "metadata": {},
   "outputs": [
    {
     "data": {
      "text/html": [
       "<div>\n",
       "<style scoped>\n",
       "    .dataframe tbody tr th:only-of-type {\n",
       "        vertical-align: middle;\n",
       "    }\n",
       "\n",
       "    .dataframe tbody tr th {\n",
       "        vertical-align: top;\n",
       "    }\n",
       "\n",
       "    .dataframe thead th {\n",
       "        text-align: right;\n",
       "    }\n",
       "</style>\n",
       "<table border=\"1\" class=\"dataframe\">\n",
       "  <thead>\n",
       "    <tr style=\"text-align: right;\">\n",
       "      <th></th>\n",
       "      <th>label</th>\n",
       "    </tr>\n",
       "  </thead>\n",
       "  <tbody>\n",
       "    <tr>\n",
       "      <th>count</th>\n",
       "      <td>3000.000000</td>\n",
       "    </tr>\n",
       "    <tr>\n",
       "      <th>mean</th>\n",
       "      <td>0.166667</td>\n",
       "    </tr>\n",
       "    <tr>\n",
       "      <th>std</th>\n",
       "      <td>0.372740</td>\n",
       "    </tr>\n",
       "    <tr>\n",
       "      <th>min</th>\n",
       "      <td>0.000000</td>\n",
       "    </tr>\n",
       "    <tr>\n",
       "      <th>25%</th>\n",
       "      <td>0.000000</td>\n",
       "    </tr>\n",
       "    <tr>\n",
       "      <th>50%</th>\n",
       "      <td>0.000000</td>\n",
       "    </tr>\n",
       "    <tr>\n",
       "      <th>75%</th>\n",
       "      <td>0.000000</td>\n",
       "    </tr>\n",
       "    <tr>\n",
       "      <th>max</th>\n",
       "      <td>1.000000</td>\n",
       "    </tr>\n",
       "  </tbody>\n",
       "</table>\n",
       "</div>"
      ],
      "text/plain": [
       "             label\n",
       "count  3000.000000\n",
       "mean      0.166667\n",
       "std       0.372740\n",
       "min       0.000000\n",
       "25%       0.000000\n",
       "50%       0.000000\n",
       "75%       0.000000\n",
       "max       1.000000"
      ]
     },
     "execution_count": 7,
     "metadata": {},
     "output_type": "execute_result"
    }
   ],
   "source": [
    "data.describe()"
   ]
  },
  {
   "cell_type": "code",
   "execution_count": 8,
   "id": "e147130e",
   "metadata": {},
   "outputs": [
    {
     "data": {
      "text/plain": [
       "0    2500\n",
       "1     500\n",
       "Name: label, dtype: int64"
      ]
     },
     "execution_count": 8,
     "metadata": {},
     "output_type": "execute_result"
    }
   ],
   "source": [
    "data.label.value_counts()"
   ]
  },
  {
   "cell_type": "code",
   "execution_count": 9,
   "id": "d3ed8317",
   "metadata": {},
   "outputs": [
    {
     "data": {
      "image/png": "[encoded data removed]",
      "text/plain": [
       "<Figure size 432x288 with 1 Axes>"
      ]
     },
     "metadata": {},
     "output_type": "display_data"
    }
   ],
   "source": [
    "data.label.value_counts().plot.pie()\n",
    "plt.title('SPAM (1) vs HAM (0)')\n",
    "plt.show()"
   ]
  },
  {
   "cell_type": "markdown",
   "id": "f4b91212",
   "metadata": {},
   "source": [
    "# Preprocessing"
   ]
  },
  {
   "cell_type": "code",
   "execution_count": 9,
   "id": "0b103c92",
   "metadata": {},
   "outputs": [],
   "source": [
    "# Preprocessing\n",
    "stop_words = set(stopwords.words('english'))\n"
   ]
  },
  {
   "cell_type": "code",
   "execution_count": 10,
   "id": "b9c15123",
   "metadata": {},
   "outputs": [],
   "source": [
    "def preprocess(text):\n",
    "    # Convert to lowercase\n",
    "    text = str(text)\n",
    "    if isinstance(text, str):\n",
    "        text = text.lower()\n",
    "    # Remove special characters and punctuation\n",
    "    text = re.sub(r'\\W|_+', ' ', text)\n",
    "    # Remove digits\n",
    "    text = re.sub(r'\\d', ' ', text)\n",
    "    # Remove stopwords\n",
    "    tokens = word_tokenize(text)\n",
    "    filtered_tokens = [word for word in tokens if word not in stop_words]\n",
    "    text = ' '.join(filtered_tokens)\n",
    "      #stemming\n",
    "    ps = PorterStemmer()\n",
    "    stemmed_tokens = [ps.stem(word) for word in filtered_tokens]\n",
    "    text = ' '.join(stemmed_tokens)\n",
    "    return text\n"
   ]
  },
  {
   "cell_type": "markdown",
   "id": "4e5c53b3",
   "metadata": {},
   "source": [
    "# Apply preprocessing on data"
   ]
  },
  {
   "cell_type": "code",
   "execution_count": 11,
   "id": "2882efb9",
   "metadata": {},
   "outputs": [
    {
     "data": {
      "text/html": [
       "<div>\n",
       "<style scoped>\n",
       "    .dataframe tbody tr th:only-of-type {\n",
       "        vertical-align: middle;\n",
       "    }\n",
       "\n",
       "    .dataframe tbody tr th {\n",
       "        vertical-align: top;\n",
       "    }\n",
       "\n",
       "    .dataframe thead th {\n",
       "        text-align: right;\n",
       "    }\n",
       "</style>\n",
       "<table border=\"1\" class=\"dataframe\">\n",
       "  <thead>\n",
       "    <tr style=\"text-align: right;\">\n",
       "      <th></th>\n",
       "      <th>text</th>\n",
       "      <th>label</th>\n",
       "      <th>clean</th>\n",
       "    </tr>\n",
       "  </thead>\n",
       "  <tbody>\n",
       "    <tr>\n",
       "      <th>0</th>\n",
       "      <td>date wed NUMBER aug NUMBER NUMBER NUMBER NUMB...</td>\n",
       "      <td>0</td>\n",
       "      <td>date wed number aug number number number numbe...</td>\n",
       "    </tr>\n",
       "    <tr>\n",
       "      <th>1</th>\n",
       "      <td>martin a posted tassos papadopoulos the greek ...</td>\n",
       "      <td>0</td>\n",
       "      <td>martin post tasso papadopoulo greek sculptor b...</td>\n",
       "    </tr>\n",
       "    <tr>\n",
       "      <th>2</th>\n",
       "      <td>man threatens explosion in moscow thursday aug...</td>\n",
       "      <td>0</td>\n",
       "      <td>man threaten explos moscow thursday august num...</td>\n",
       "    </tr>\n",
       "    <tr>\n",
       "      <th>3</th>\n",
       "      <td>klez the virus that won t die already the most...</td>\n",
       "      <td>0</td>\n",
       "      <td>klez viru die alreadi prolif viru ever klez co...</td>\n",
       "    </tr>\n",
       "    <tr>\n",
       "      <th>4</th>\n",
       "      <td>in adding cream to spaghetti carbonara which ...</td>\n",
       "      <td>0</td>\n",
       "      <td>ad cream spaghetti carbonara effect pasta make...</td>\n",
       "    </tr>\n",
       "    <tr>\n",
       "      <th>...</th>\n",
       "      <td>...</td>\n",
       "      <td>...</td>\n",
       "      <td>...</td>\n",
       "    </tr>\n",
       "    <tr>\n",
       "      <th>2995</th>\n",
       "      <td>abc s good morning america ranks it the NUMBE...</td>\n",
       "      <td>1</td>\n",
       "      <td>abc good morn america rank number christma toy...</td>\n",
       "    </tr>\n",
       "    <tr>\n",
       "      <th>2996</th>\n",
       "      <td>hyperlink hyperlink hyperlink let mortgage le...</td>\n",
       "      <td>1</td>\n",
       "      <td>hyperlink hyperlink hyperlink let mortgag lend...</td>\n",
       "    </tr>\n",
       "    <tr>\n",
       "      <th>2997</th>\n",
       "      <td>thank you for shopping with us gifts for all ...</td>\n",
       "      <td>1</td>\n",
       "      <td>thank shop us gift occas free gift number numb...</td>\n",
       "    </tr>\n",
       "    <tr>\n",
       "      <th>2998</th>\n",
       "      <td>the famous ebay marketing e course learn to s...</td>\n",
       "      <td>1</td>\n",
       "      <td>famou ebay market e cours learn sell complet e...</td>\n",
       "    </tr>\n",
       "    <tr>\n",
       "      <th>2999</th>\n",
       "      <td>hello this is chinese traditional 子 件 NUMBER世...</td>\n",
       "      <td>1</td>\n",
       "      <td>hello chines tradit 子 件 number世 o最有效的宣 鞣绞剑 您想 ...</td>\n",
       "    </tr>\n",
       "  </tbody>\n",
       "</table>\n",
       "<p>3000 rows × 3 columns</p>\n",
       "</div>"
      ],
      "text/plain": [
       "                                                   text  label  \\\n",
       "0      date wed NUMBER aug NUMBER NUMBER NUMBER NUMB...      0   \n",
       "1     martin a posted tassos papadopoulos the greek ...      0   \n",
       "2     man threatens explosion in moscow thursday aug...      0   \n",
       "3     klez the virus that won t die already the most...      0   \n",
       "4      in adding cream to spaghetti carbonara which ...      0   \n",
       "...                                                 ...    ...   \n",
       "2995   abc s good morning america ranks it the NUMBE...      1   \n",
       "2996   hyperlink hyperlink hyperlink let mortgage le...      1   \n",
       "2997   thank you for shopping with us gifts for all ...      1   \n",
       "2998   the famous ebay marketing e course learn to s...      1   \n",
       "2999   hello this is chinese traditional 子 件 NUMBER世...      1   \n",
       "\n",
       "                                                  clean  \n",
       "0     date wed number aug number number number numbe...  \n",
       "1     martin post tasso papadopoulo greek sculptor b...  \n",
       "2     man threaten explos moscow thursday august num...  \n",
       "3     klez viru die alreadi prolif viru ever klez co...  \n",
       "4     ad cream spaghetti carbonara effect pasta make...  \n",
       "...                                                 ...  \n",
       "2995  abc good morn america rank number christma toy...  \n",
       "2996  hyperlink hyperlink hyperlink let mortgag lend...  \n",
       "2997  thank shop us gift occas free gift number numb...  \n",
       "2998  famou ebay market e cours learn sell complet e...  \n",
       "2999  hello chines tradit 子 件 number世 o最有效的宣 鞣绞剑 您想 ...  \n",
       "\n",
       "[3000 rows x 3 columns]"
      ]
     },
     "execution_count": 11,
     "metadata": {},
     "output_type": "execute_result"
    }
   ],
   "source": [
    "data['clean'] = data['text'].apply(preprocess)\n",
    "data"
   ]
  },
  {
   "cell_type": "markdown",
   "id": "bb7ee90d",
   "metadata": {},
   "source": [
    "#  N_Ngram Vecorization"
   ]
  },
  {
   "cell_type": "code",
   "execution_count": 12,
   "id": "97676a27",
   "metadata": {},
   "outputs": [
    {
     "name": "stdout",
     "output_type": "stream",
     "text": [
      "(3000, 224549)\n",
      "[[0 0 0 ... 0 0 0]\n",
      " [0 0 0 ... 0 0 0]\n",
      " [0 0 0 ... 0 0 0]\n",
      " ...\n",
      " [0 0 0 ... 0 0 0]\n",
      " [0 0 0 ... 0 0 0]\n",
      " [0 0 0 ... 0 1 1]]\n",
      "      aa  aa diff  aa font  aa meet  aa offici  aa sort  aa spokesman  \\\n",
      "0      0        0        0        0          0        0             0   \n",
      "1      0        0        0        0          0        0             0   \n",
      "2      0        0        0        0          0        0             0   \n",
      "3      0        0        0        0          0        0             0   \n",
      "4      0        0        0        0          0        0             0   \n",
      "...   ..      ...      ...      ...        ...      ...           ...   \n",
      "2995   0        0        0        0          0        0             0   \n",
      "2996   0        0        0        0          0        0             0   \n",
      "2997   0        0        0        0          0        0             0   \n",
      "2998   0        0        0        0          0        0             0   \n",
      "2999   0        0        0        0          0        0             0   \n",
      "\n",
      "      aa strong  \\\n",
      "0             0   \n",
      "1             0   \n",
      "2             0   \n",
      "3             0   \n",
      "4             0   \n",
      "...         ...   \n",
      "2995          0   \n",
      "2996          0   \n",
      "2997          0   \n",
      "2998          0   \n",
      "2999          0   \n",
      "\n",
      "      aaaaaaaaaaaaaaaaaaaaaaaaaaaaaaaaaaaaaaaaaaaaaaaaaaaaaaaaaaaaaaaaaaaaaaaaaaaa  \\\n",
      "0                                                     0                              \n",
      "1                                                     0                              \n",
      "2                                                     0                              \n",
      "3                                                     0                              \n",
      "4                                                     0                              \n",
      "...                                                 ...                              \n",
      "2995                                                  0                              \n",
      "2996                                                  0                              \n",
      "2997                                                  0                              \n",
      "2998                                                  0                              \n",
      "2999                                                  0                              \n",
      "\n",
      "      aaaaaaaaaaaaaaaaaaaaaaaaaaaaaaaaaaaaaaaaaaaaaaaaaaaaaaaaaaaaaaaaaaaaaaaaaaaa aaaaaaaaaaaaaaaaaaaaaaaaaaaaaaaaaaaaaaaaaaaaaaaaaaaaaaaaaaaaaaaaaaaaaaaaaaaa  \\\n",
      "0                                                     0                                                                                                           \n",
      "1                                                     0                                                                                                           \n",
      "2                                                     0                                                                                                           \n",
      "3                                                     0                                                                                                           \n",
      "4                                                     0                                                                                                           \n",
      "...                                                 ...                                                                                                           \n",
      "2995                                                  0                                                                                                           \n",
      "2996                                                  0                                                                                                           \n",
      "2997                                                  0                                                                                                           \n",
      "2998                                                  0                                                                                                           \n",
      "2999                                                  0                                                                                                           \n",
      "\n",
      "      ...  확실한  확실한 준비를  활황을  활황을 맞고  훨씬  훨씬 앞서가고  힘입어  힘입어 인테리어  ｉt的技  \\\n",
      "0     ...    0        0    0       0   0        0    0         0     0   \n",
      "1     ...    0        0    0       0   0        0    0         0     0   \n",
      "2     ...    0        0    0       0   0        0    0         0     0   \n",
      "3     ...    0        0    0       0   0        0    0         0     0   \n",
      "4     ...    0        0    0       0   0        0    0         0     0   \n",
      "...   ...  ...      ...  ...     ...  ..      ...  ...       ...   ...   \n",
      "2995  ...    0        0    0       0   0        0    0         0     0   \n",
      "2996  ...    0        0    0       0   0        0    0         0     0   \n",
      "2997  ...    0        0    0       0   0        0    0         0     0   \n",
      "2998  ...    0        0    0       0   0        0    0         0     0   \n",
      "2999  ...    0        0    0       0   0        0    0         0     1   \n",
      "\n",
      "      ｉt的技 g人  \n",
      "0           0  \n",
      "1           0  \n",
      "2           0  \n",
      "3           0  \n",
      "4           0  \n",
      "...       ...  \n",
      "2995        0  \n",
      "2996        0  \n",
      "2997        0  \n",
      "2998        0  \n",
      "2999        1  \n",
      "\n",
      "[3000 rows x 224549 columns]\n"
     ]
    }
   ],
   "source": [
    "cv = CountVectorizer(ngram_range=(1,2))\n",
    "df_ng = cv.fit_transform(data['clean'])\n",
    "print(df_ng.shape)\n",
    "print(df_ng.toarray())\n",
    "df = pd.DataFrame(df_ng.toarray(),columns=cv.get_feature_names())\n",
    "print(df)"
   ]
  },
  {
   "cell_type": "code",
   "execution_count": 13,
   "id": "218f2efc",
   "metadata": {},
   "outputs": [],
   "source": [
    "X_train, X_test, y_train, y_test = train_test_split(df_ng,data['label'], test_size=0.2, random_state=42)"
   ]
  },
  {
   "cell_type": "code",
   "execution_count": 14,
   "id": "ffce463e",
   "metadata": {},
   "outputs": [
    {
     "name": "stdout",
     "output_type": "stream",
     "text": [
      "X_train.shape (2400, 224549)\n",
      "X_test.shape (600, 224549)\n",
      "y_train.shape (2400,)\n",
      "y_test.shape (600,)\n"
     ]
    }
   ],
   "source": [
    "print('X_train.shape',X_train.shape)\n",
    "print('X_test.shape',X_test.shape)\n",
    "print('y_train.shape',y_train.shape)\n",
    "print('y_test.shape',y_test.shape)"
   ]
  },
  {
   "cell_type": "markdown",
   "id": "38c018be",
   "metadata": {},
   "source": [
    "# ML CLASSIFIER\n",
    "\n",
    "\n",
    "#  1-Decision Tree classifier\n"
   ]
  },
  {
   "cell_type": "code",
   "execution_count": 15,
   "id": "d14769cb",
   "metadata": {},
   "outputs": [
    {
     "name": "stdout",
     "output_type": "stream",
     "text": [
      "Accuracy: 0.9533333333333334\n"
     ]
    }
   ],
   "source": [
    "from sklearn import tree\n",
    "model=tree.DecisionTreeClassifier()\n",
    "model.fit(X_train,y_train)\n",
    "accuracy=model.score(X_test,y_test)\n",
    "print(\"Accuracy:\", accuracy)"
   ]
  },
  {
   "cell_type": "markdown",
   "id": "fa9ae03d",
   "metadata": {},
   "source": [
    "# 2-Random Forest classifier "
   ]
  },
  {
   "cell_type": "code",
   "execution_count": 22,
   "id": "111519df",
   "metadata": {},
   "outputs": [
    {
     "name": "stdout",
     "output_type": "stream",
     "text": [
      "Accuracy: 0.9666666666666667\n"
     ]
    }
   ],
   "source": [
    "mode=RandomForestClassifier(n_jobs=-1)\n",
    "mode.fit(X_train,y_train)\n",
    "accuracy=mode.score(X_test,y_test)\n",
    "print(\"Accuracy:\", accuracy)"
   ]
  },
  {
   "cell_type": "markdown",
   "id": "600a7501",
   "metadata": {},
   "source": [
    "# 3-Naiva bayes classifier (Highest ACCuracy)\n"
   ]
  },
  {
   "cell_type": "code",
   "execution_count": 17,
   "id": "5e120d46",
   "metadata": {},
   "outputs": [
    {
     "name": "stdout",
     "output_type": "stream",
     "text": [
      "Accuracy: 0.99\n"
     ]
    }
   ],
   "source": [
    "from sklearn.naive_bayes import MultinomialNB\n",
    "model_final = MultinomialNB()\n",
    "model_final.fit(X_train, y_train)\n",
    "accuracy=model_final.score(X_test,y_test)\n",
    "print(\"Accuracy:\", accuracy)"
   ]
  },
  {
   "cell_type": "code",
   "execution_count": 18,
   "id": "20533110",
   "metadata": {},
   "outputs": [
    {
     "name": "stdout",
     "output_type": "stream",
     "text": [
      "[[501   4]\n",
      " [  2  93]]\n"
     ]
    },
    {
     "data": {
      "text/plain": [
       "<function matplotlib.pyplot.show(close=None, block=None)>"
      ]
     },
     "execution_count": 18,
     "metadata": {},
     "output_type": "execute_result"
    },
    {
     "data": {
      "image/png": "[encoded data removed]",
      "text/plain": [
       "<Figure size 288x288 with 1 Axes>"
      ]
     },
     "metadata": {
      "needs_background": "light"
     },
     "output_type": "display_data"
    }
   ],
   "source": [
    "#confusion_matrix\n",
    "from sklearn.metrics import confusion_matrix\n",
    "y_pred = model_final.predict(X_test)\n",
    "cm = confusion_matrix(y_test, y_pred)\n",
    "print(cm)\n",
    "plt.matshow(cm, cmap=plt.cm.gray)\n",
    "plt.show"
   ]
  },
  {
   "cell_type": "markdown",
   "id": "a091773a",
   "metadata": {},
   "source": [
    "# evaluate using GUI View -- Tkinter --"
   ]
  },
  {
   "cell_type": "code",
   "execution_count": 23,
   "id": "68eb95c5",
   "metadata": {},
   "outputs": [],
   "source": [
    "from tkinter import *\n",
    "from PIL import Image , ImageTk\n",
    "import tkinter.messagebox as msg\n",
    "\n",
    "root = Tk()\n",
    "\n",
    "\n",
    "def spam():\n",
    "\n",
    "    # put the model here \n",
    "    # evaluate\n",
    "    x=cv.transform([input_txt.get()])\n",
    "    pred=mode.predict(x)\n",
    "    \n",
    "    # output message box \n",
    "    if pred[0]==1:\n",
    "        msg.showinfo(\"Spam Result\" , \"Not A Spam Text\")\n",
    "    else:\n",
    "        msg.showinfo(\"Spam Result\" , \"A Spam Text\")\n",
    "\n",
    "\n",
    "# setting some heading settings\n",
    "root.geometry(\"400x415\")\n",
    "root.title(\"Spam Detection\")\n",
    "\n",
    "\n",
    "# loading batch image \n",
    "spam_img = ImageTk.PhotoImage(Image.open('spam.png'))\n",
    "\n",
    "\n",
    "# create the label image\n",
    "Label(\n",
    "    root, \n",
    "    image=spam_img,\n",
    "    padx=10,\n",
    "    pady=50\n",
    ").pack(pady=20)\n",
    "\n",
    "\n",
    "# create input field \n",
    "input_txt = Entry(\n",
    "    root, \n",
    "    font=('Consolas',25,'bold'),\n",
    "    width=20,\n",
    "    relief=SUNKEN,\n",
    "    bg = 'white',\n",
    "    fg = 'black',\n",
    ")\n",
    "input_txt.pack(padx=10,pady=10)\n",
    "\n",
    "\n",
    "# create button for action\n",
    "process_btn = Button(\n",
    "    root,\n",
    "    text=\"Detect\",\n",
    "    font=('Consolas',20,'bold'),\n",
    "    bg='#0A2647',\n",
    "    fg='white',\n",
    "    command = lambda : spam()\n",
    ")\n",
    "process_btn.pack(fill=BOTH,expand=True)\n",
    "\n",
    "\n",
    "root.mainloop()"
   ]
  },
  {
   "cell_type": "markdown",
   "id": "6c06addf",
   "metadata": {},
   "source": [
    "# Test the model to predict test"
   ]
  },
  {
   "cell_type": "code",
   "execution_count": 28,
   "id": "0a938fe9",
   "metadata": {},
   "outputs": [
    {
     "name": "stdout",
     "output_type": "stream",
     "text": [
      "ham\n"
     ]
    }
   ],
   "source": [
    "text=\"ho ho ho , we ' re around to that most wonderful time of the year - - - neon leaders retreat time !i know that this time of year is extremely hectic , and that it ' s tough to think about anything past the holidays , but life does go on past the week of december 25 through january 1 , and that ' s what i ' d like you to think about for a minute .on the calender that i handed out at the beginning of the fall semester , the retreat was scheduled for the weekend of january 5 - 6 . but because of a youth ministers conference that brad and dustin are connected with that week , we ' re going to change the date to the following weekend , january 12 - 13 . now comes the part you need to think about .i think we all agree that it ' s important for us to get together and have some time to recharge our batteries before we get to far into the spring semester , but it can be a lot of trouble and difficult for us to get away without kids , etc . so , brad came up with a potential alternative for how we can get together on that weekend , and then you can let me know which you prefer the first option would be to have a retreat similar to what we ' ve done the past several years . this year we could go to the heartland country inn ( www . . com ) outside of brenham . it ' s a nice place , where we ' d have a 13 - bedroom and a 5 - bedroom house side by side . it ' s in the country , real relaxing , but also close to brenham and only about one hour and 15 minutes from here . we can golf , shop in the antique and craft stores in brenham , eat dinner together at the ranch , and spend time with each other . we ' d meet on saturday , and then return on sunday morning , just like what we ' ve done in the past .the second option would be to stay here in houston , have dinner together at a nice restaurant , and then have dessert and a time for visiting and recharging at one of our homes on that saturday evening . this might be easier , but the trade off would be that we wouldn ' t have as much time together . i ' ll let you decide .email me back with what would be your preference , and of course if you ' re available on that weekend . the democratic process will prevail - - majority vote will rule ! let me hear from you as soon as possible , preferably by the end of the weekend . and if the vote doesn ' t go your way , no complaining allowed ( like i tend to do ! )\"\n",
    "x=cv.transform([text])\n",
    "pred=mode.predict(x)\n",
    "if pred[0]==1:\n",
    "    print(\"spam\")\n",
    "else:\n",
    "    print(\"ham\")"
   ]
  },
  {
   "cell_type": "code",
   "execution_count": 29,
   "id": "eb79d895",
   "metadata": {},
   "outputs": [
    {
     "name": "stdout",
     "output_type": "stream",
     "text": [
      "spam\n"
     ]
    }
   ],
   "source": [
    "text=\" photoshop , windows , office . cheap . main trendingabasements darer prudently fortuitous undergonelighthearted charm orinoco tasterrailroad affluent pornographic cuvierirvin parkhouse blameworthy chlorophyllrobed diagrammatic fogarty clears baydainconveniencing managing represented smartness hashishacademies shareholders unload badnessdanielson pure caffeinspaniard chargeable levin\"\n",
    "x=cv.transform([text])\n",
    "pred=mode.predict(x)\n",
    "if pred[0]==1:\n",
    "    print(\"spam\")\n",
    "else:\n",
    "    print(\"ham\")"
   ]
  },
  {
   "cell_type": "code",
   "execution_count": 30,
   "id": "af27a2ad",
   "metadata": {},
   "outputs": [
    {
     "name": "stdout",
     "output_type": "stream",
     "text": [
      "spam\n"
     ]
    }
   ],
   "source": [
    "text = \"Congratulations, you've won a free trip to Hawaii! Click here to claim your prize.\"\n",
    "x=cv.transform([text])\n",
    "pred=model_final.predict(x)\n",
    "if pred[0]==1:\n",
    "    print(\"spam\")\n",
    "else:\n",
    "    print(\"ham\")"
   ]
  },
  {
   "cell_type": "markdown",
   "id": "6d7eebfc",
   "metadata": {},
   "source": [
    "# test the model again"
   ]
  },
  {
   "cell_type": "code",
   "execution_count": 31,
   "id": "f41b5b3a",
   "metadata": {},
   "outputs": [],
   "source": [
    "def classify_text(text):\n",
    "    # Preprocess the text\n",
    "    processed_text = preprocess(text)\n",
    "    # Vectorize the text\n",
    "    vectorized_text = cv.transform([processed_text])\n",
    "    # Make a prediction using the final classifier(MultinomialNB)\n",
    "    prediction = model_final.predict(vectorized_text)[0]\n",
    "    if  prediction == 1:\n",
    "        return \"spam\"\n",
    "    else:\n",
    "        return \"not spam\""
   ]
  },
  {
   "cell_type": "markdown",
   "id": "9970e32a",
   "metadata": {},
   "source": [
    "# Enter your test"
   ]
  },
  {
   "cell_type": "code",
   "execution_count": 28,
   "id": "3700cf80",
   "metadata": {},
   "outputs": [
    {
     "name": "stdout",
     "output_type": "stream",
     "text": [
      "The text is classified as: spam\n"
     ]
    }
   ],
   "source": [
    "text_to_classify = \"Congratulations, you've won a free trip to Hawaii! Click here to claim your prize.\"\n",
    "classification = classify_text(text_to_classify)\n",
    "print(\"The text is classified as:\", classification)\n",
    " "
   ]
  },
  {
   "cell_type": "code",
   "execution_count": 29,
   "id": "2db39430",
   "metadata": {},
   "outputs": [
    {
     "name": "stdout",
     "output_type": "stream",
     "text": [
      "The text is classified as: not spam\n"
     ]
    }
   ],
   "source": [
    "text_to_classify = \"Hi John, I wanted to follow up on our meeting last week. Let me know if you have any updates. Thanks, Sarah\"\n",
    "classification = classify_text(text_to_classify)\n",
    "print(\"The text is classified as:\", classification)\n",
    " "
   ]
  },
  {
   "cell_type": "markdown",
   "id": "6543fd02",
   "metadata": {},
   "source": [
    "# Save the final classifier\n"
   ]
  },
  {
   "cell_type": "code",
   "execution_count": 32,
   "id": "7d1c3e6a",
   "metadata": {},
   "outputs": [
    {
     "data": {
      "text/plain": [
       "['ngram']"
      ]
     },
     "execution_count": 32,
     "metadata": {},
     "output_type": "execute_result"
    }
   ],
   "source": [
    "# Save the final classifier\n",
    "joblib.dump(model, 'ngram')"
   ]
  },
  {
   "cell_type": "markdown",
   "id": "2b7c8f06",
   "metadata": {},
   "source": [
    "# Load the final classifier"
   ]
  },
  {
   "cell_type": "code",
   "execution_count": 31,
   "id": "1c9de066",
   "metadata": {},
   "outputs": [],
   "source": [
    "# Load the final classifier\n",
    "clf_loaded = joblib.load('ngram')\n"
   ]
  },
  {
   "cell_type": "markdown",
   "id": "1bcd8de7",
   "metadata": {},
   "source": [
    "# Enter your test"
   ]
  },
  {
   "cell_type": "code",
   "execution_count": 32,
   "id": "65e0af8f",
   "metadata": {},
   "outputs": [
    {
     "name": "stdout",
     "output_type": "stream",
     "text": [
      "The text is classified as: not spam\n"
     ]
    }
   ],
   "source": [
    "text_to_classify = \"Subject: = ? iso - 8859 - 7 ? q ? = 5 b = 3 f = 5 d _ fwd : continuous _ gr = f 4 wth _ with _ the _ pill ? =\"\n",
    "classification = classify_text(text_to_classify)\n",
    "print(\"The text is classified as:\", classification)\n",
    " "
   ]
  },
  {
   "cell_type": "code",
   "execution_count": null,
   "id": "8e62404e",
   "metadata": {},
   "outputs": [],
   "source": []
  }
 ],
 "metadata": {
  "kernelspec": {
   "display_name": "Python 3",
   "language": "python",
   "name": "python3"
  },
  "language_info": {
   "codemirror_mode": {
    "name": "ipython",
    "version": 3
   },
   "file_extension": ".py",
   "mimetype": "text/x-python",
   "name": "python",
   "nbconvert_exporter": "python",
   "pygments_lexer": "ipython3",
   "version": "3.6.13"
  }
 },
 "nbformat": 4,
 "nbformat_minor": 5
}
